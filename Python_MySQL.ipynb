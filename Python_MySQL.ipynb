{
 "cells": [
  {
   "cell_type": "markdown",
   "id": "724f149f",
   "metadata": {},
   "source": [
    "<center style=\"font-size:18pt; background-color:#0f79b6\">\n",
    "    <br/>\n",
    "        <b style=\"color: #ffffff\">\n",
    "            CONECTANDO BANCO DE DADOS MYSQL - CONTAINER - COM PYTHON\n",
    "        </b>\n",
    "    <br/>&nbsp;\n",
    "</center>"
   ]
  },
  {
   "cell_type": "code",
   "execution_count": 69,
   "id": "17019d06",
   "metadata": {},
   "outputs": [],
   "source": [
    "# Conectando base de dados MySQL com Python\n",
    "# by geanclm on 29/10/2023\n",
    "# update com suvesso em 30/10/2023"
   ]
  },
  {
   "cell_type": "code",
   "execution_count": null,
   "id": "4f0bb034",
   "metadata": {},
   "outputs": [],
   "source": [
    "# LAB - recursos expladorados\n",
    "# - Windows 11 (sistema principal hospedeiro)\n",
    "# - WSL2 (subsitema windows 11 para executar o linux em terminal)\n",
    "# - Docker (tecnologia de conteiner para rodar o servidor data base)\n",
    "# - Linux Ubuntu (sistema operacional base no WSL2)\n",
    "# - MySQL (banco de dados em container para transação de dados em tabelas)\n",
    "# - Python (linguagem no Windows 11 para acessar os dados do DB)\n",
    "# - Jupyter Notebook (editor de código utilizado com Python para o CRUD com a linguagem SQL)\n",
    "# - ChatGPT (IA utilizada na condição de assistente para a geração de tabelas de teste)\n",
    "# - Visual Studio Code (para edição e teste de código na versão .py)"
   ]
  },
  {
   "cell_type": "code",
   "execution_count": 3,
   "id": "3f995bfd",
   "metadata": {},
   "outputs": [],
   "source": [
    "# !pip install mysql-connector-python"
   ]
  },
  {
   "cell_type": "code",
   "execution_count": 41,
   "id": "cecc96fd",
   "metadata": {},
   "outputs": [],
   "source": [
    "import mysql.connector"
   ]
  },
  {
   "cell_type": "code",
   "execution_count": 59,
   "id": "96888491",
   "metadata": {},
   "outputs": [],
   "source": [
    "conexao = mysql.connector.connect (\n",
    "    host = 'localhost',\n",
    "    user = 'root',\n",
    "    password = 's145',\n",
    "    database = 'estudo_db',\n",
    ")"
   ]
  },
  {
   "cell_type": "code",
   "execution_count": 60,
   "id": "1aa9d1c7",
   "metadata": {},
   "outputs": [],
   "source": [
    "cursor = conexao.cursor()"
   ]
  },
  {
   "cell_type": "code",
   "execution_count": null,
   "id": "d52f7d03",
   "metadata": {},
   "outputs": [],
   "source": []
  },
  {
   "cell_type": "code",
   "execution_count": null,
   "id": "658ec5b5",
   "metadata": {},
   "outputs": [],
   "source": []
  },
  {
   "cell_type": "code",
   "execution_count": 45,
   "id": "051e3317",
   "metadata": {},
   "outputs": [],
   "source": [
    "# CRUD - INSERT\n",
    "nome = \"João APóstolo\"\n",
    "idade = 28\n",
    "disciplina = 2\n",
    "sql = 'INSERT INTO Aluno (nome, idade, id_disciplina) VALUES (%s, %s, %s)'\n",
    "val = (nome, idade, disciplina)\n",
    "\n",
    "# cursor.execute()\n",
    "cursor.execute(sql, val)\n",
    "conexao.commit()"
   ]
  },
  {
   "cell_type": "code",
   "execution_count": null,
   "id": "67a199cb",
   "metadata": {},
   "outputs": [],
   "source": []
  },
  {
   "cell_type": "code",
   "execution_count": null,
   "id": "caed0c74",
   "metadata": {},
   "outputs": [],
   "source": []
  },
  {
   "cell_type": "code",
   "execution_count": 70,
   "id": "69458e3c",
   "metadata": {},
   "outputs": [
    {
     "data": {
      "text/plain": [
       "[(1, 'Joo Silva', 20, 1),\n",
       " (2, 'Maria Santos', 888, 2),\n",
       " (4, 'Ana Pereira', 23, 4),\n",
       " (5, 'Carlos Ferreira', 999, 1),\n",
       " (6, 'Sofia Lopes', 20, 2),\n",
       " (7, 'Ricardo Oliveira', 24, 3),\n",
       " (8, 'Marta Costa', 22, 4),\n",
       " (9, 'Antnio Santos', 21, 1),\n",
       " (10, 'Lusa Silva', 20, 2),\n",
       " (12, 'Luciano M', 48, None),\n",
       " (13, 'Maria de Nazaré', 888, 2),\n",
       " (15, 'João APóstolo', 28, 2)]"
      ]
     },
     "metadata": {},
     "output_type": "display_data"
    }
   ],
   "source": [
    "# CRUD - SELECT\n",
    "sql = 'SELECT * FROM Aluno'\n",
    "cursor.execute(sql)\n",
    "consulta = cursor.fetchall()\n",
    "display(consulta)"
   ]
  },
  {
   "cell_type": "code",
   "execution_count": null,
   "id": "1ab937e4",
   "metadata": {},
   "outputs": [],
   "source": []
  },
  {
   "cell_type": "code",
   "execution_count": null,
   "id": "1292913b",
   "metadata": {},
   "outputs": [],
   "source": []
  },
  {
   "cell_type": "code",
   "execution_count": 65,
   "id": "52fa3ba2",
   "metadata": {},
   "outputs": [],
   "source": [
    "# CRUD - UPDATE\n",
    "sql = 'UPDATE Aluno SET idade = 888 WHERE nome LIKE \"Maria%\"'\n",
    "cursor.execute(sql)\n",
    "conexao.commit()"
   ]
  },
  {
   "cell_type": "code",
   "execution_count": null,
   "id": "52bd0481",
   "metadata": {},
   "outputs": [],
   "source": []
  },
  {
   "cell_type": "code",
   "execution_count": null,
   "id": "07d2b180",
   "metadata": {},
   "outputs": [],
   "source": []
  },
  {
   "cell_type": "code",
   "execution_count": 66,
   "id": "f2d161d1",
   "metadata": {},
   "outputs": [],
   "source": [
    "# CRUD - DELETE\n",
    "sql = 'DELETE FROM Aluno WHERE nome LIKE \"Pedro%\"'\n",
    "cursor.execute(sql)\n",
    "conexao.commit()"
   ]
  },
  {
   "cell_type": "code",
   "execution_count": null,
   "id": "ef978dd8",
   "metadata": {},
   "outputs": [],
   "source": []
  },
  {
   "cell_type": "code",
   "execution_count": null,
   "id": "afd3e182",
   "metadata": {},
   "outputs": [],
   "source": []
  },
  {
   "cell_type": "code",
   "execution_count": null,
   "id": "e0428dfc",
   "metadata": {},
   "outputs": [],
   "source": [
    "# encerrar conexão com o banco de dados\n",
    "cursor.close()\n",
    "conexao.close()"
   ]
  }
 ],
 "metadata": {
  "kernelspec": {
   "display_name": "Python 3 (ipykernel)",
   "language": "python",
   "name": "python3"
  },
  "language_info": {
   "codemirror_mode": {
    "name": "ipython",
    "version": 3
   },
   "file_extension": ".py",
   "mimetype": "text/x-python",
   "name": "python",
   "nbconvert_exporter": "python",
   "pygments_lexer": "ipython3",
   "version": "3.11.5"
  }
 },
 "nbformat": 4,
 "nbformat_minor": 5
}
